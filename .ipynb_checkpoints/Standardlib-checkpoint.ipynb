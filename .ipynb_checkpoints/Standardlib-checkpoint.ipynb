{
 "cells": [
  {
   "cell_type": "markdown",
   "id": "50d0b5e1-346a-4d81-97aa-134222cef274",
   "metadata": {},
   "source": [
    "What is a vector?\n",
    "it's a dynamic memory block that is contiguous\n",
    "has a capacity and a size\n",
    "size: number of current elements stored\n",
    "capacity: how much it can hold without reallocation (>=size)\n",
    "\n",
    " if we push back element to a max capacity vector, the capacity will be pushed back by 1 larger than the size.\n",
    "it can be helpful to set the capacity in the beginning but not necaaary."
   ]
  },
  {
   "cell_type": "code",
   "execution_count": 1,
   "id": "dd336fb9-d09b-471b-8a74-74067625acf1",
   "metadata": {},
   "outputs": [],
   "source": [
    "#include <vector>"
   ]
  },
  {
   "cell_type": "code",
   "execution_count": 2,
   "id": "08897fa5-0d9e-4fe5-b7c2-056a48baba9f",
   "metadata": {},
   "outputs": [],
   "source": [
    "std::vector<double> v{1.1,2.2,3.3,4.4,5.5};"
   ]
  },
  {
   "cell_type": "code",
   "execution_count": 3,
   "id": "8bce47d4-be29-4954-81c7-57fd10c22b4d",
   "metadata": {},
   "outputs": [
    {
     "data": {
      "text/plain": [
       "{ 1.1000000, 2.2000000, 3.3000000, 4.4000000, 5.5000000 }"
      ]
     },
     "execution_count": 3,
     "metadata": {},
     "output_type": "execute_result"
    }
   ],
   "source": [
    "v"
   ]
  },
  {
   "cell_type": "code",
   "execution_count": 4,
   "id": "5a120070-3d2f-425a-900a-17ebf02b2a8f",
   "metadata": {},
   "outputs": [],
   "source": [
    "v.push_back(6.6);"
   ]
  },
  {
   "cell_type": "code",
   "execution_count": 5,
   "id": "938ca3fe-22e8-4a22-8b8c-397df3f6eb05",
   "metadata": {},
   "outputs": [
    {
     "data": {
      "text/plain": [
       "{ 1.1000000, 2.2000000, 3.3000000, 4.4000000, 5.5000000, 6.6000000 }"
      ]
     },
     "execution_count": 5,
     "metadata": {},
     "output_type": "execute_result"
    }
   ],
   "source": [
    "v"
   ]
  },
  {
   "cell_type": "code",
   "execution_count": 6,
   "id": "ca9d4b55-ee81-4bee-b0c7-ba750c0aa5a8",
   "metadata": {},
   "outputs": [
    {
     "data": {
      "text/plain": [
       "6"
      ]
     },
     "execution_count": 6,
     "metadata": {},
     "output_type": "execute_result"
    }
   ],
   "source": [
    "v.size()"
   ]
  },
  {
   "cell_type": "code",
   "execution_count": 7,
   "id": "039c2e9a-6171-42c2-a650-3f88f3ce71fb",
   "metadata": {},
   "outputs": [
    {
     "data": {
      "text/plain": [
       "10"
      ]
     },
     "execution_count": 7,
     "metadata": {},
     "output_type": "execute_result"
    }
   ],
   "source": [
    "v.capacity() // the compiler decided to include 4 more slots for us."
   ]
  },
  {
   "cell_type": "code",
   "execution_count": 8,
   "id": "7b2ee423-998c-4842-8dc7-43c50e307998",
   "metadata": {},
   "outputs": [],
   "source": [
    "v.pop_back()"
   ]
  },
  {
   "cell_type": "code",
   "execution_count": 9,
   "id": "5160312d-f867-4b95-90aa-b07c6fb594f1",
   "metadata": {},
   "outputs": [
    {
     "data": {
      "text/plain": [
       "5"
      ]
     },
     "execution_count": 9,
     "metadata": {},
     "output_type": "execute_result"
    }
   ],
   "source": [
    "v.size()"
   ]
  },
  {
   "cell_type": "code",
   "execution_count": 10,
   "id": "5073af46-e284-4578-a8ec-488e82c39837",
   "metadata": {},
   "outputs": [],
   "source": [
    "v.reserve(100); // to reserve the capacity."
   ]
  },
  {
   "cell_type": "code",
   "execution_count": 11,
   "id": "a8c1f571-6058-455d-83c4-ff07415ece17",
   "metadata": {},
   "outputs": [
    {
     "name": "stderr",
     "output_type": "stream",
     "text": [
      "\u001b[1minput_line_24:3:12: \u001b[0m\u001b[0;1;31merror: \u001b[0m\u001b[1mexpected ';' after expression\u001b[0m\n",
      "v.resize(5) // this will decrease the size of the vector to 5 and it will cut off everything after 5.\n",
      "\u001b[0;1;32m           ^\n",
      "\u001b[0m\u001b[0;32m           ;\n",
      "\u001b[0m\u001b[1minput_line_24:4:12: \u001b[0m\u001b[0;1;31merror: \u001b[0m\u001b[1mexpected ';' after expression\u001b[0m\n",
      "v[0] = 9.99 // to change the value at index 0 to 9.99\n",
      "\u001b[0;1;32m           ^\n",
      "\u001b[0m\u001b[0;32m           ;\n",
      "\u001b[0m\u001b[1minput_line_24:5:3: \u001b[0m\u001b[0;1;31merror: \u001b[0m\u001b[1mno matching member function for call to 'at'\u001b[0m\n",
      "v.at() // to access information at this point. \n",
      "\u001b[0;1;32m~~^~\n",
      "\u001b[0m\u001b[1m/home/zifang/miniconda3/envs/msse-cling/bin/../lib/gcc/../../x86_64-conda-linux-gnu/include/c++/10.4.0/bits/stl_vector.h:1092:7: \u001b[0m\u001b[0;1;30mnote: \u001b[0mcandidate function not viable: requires single argument '__n', but no arguments were provided\u001b[0m\n",
      "      at(size_type __n)\n",
      "\u001b[0;1;32m      ^\n",
      "\u001b[0m\u001b[1m/home/zifang/miniconda3/envs/msse-cling/bin/../lib/gcc/../../x86_64-conda-linux-gnu/include/c++/10.4.0/bits/stl_vector.h:1110:7: \u001b[0m\u001b[0;1;30mnote: \u001b[0mcandidate function not viable: requires single argument '__n', but no arguments were provided\u001b[0m\n",
      "      at(size_type __n) const\n",
      "\u001b[0;1;32m      ^\n",
      "\u001b[0m"
     ]
    },
    {
     "ename": "Interpreter Error",
     "evalue": "",
     "output_type": "error",
     "traceback": [
      "Interpreter Error: "
     ]
    }
   ],
   "source": [
    "v.resize(15,3.4); //we will size of the vector to 15 and fill in the rest with 3.14.\n",
    "v.resize(5) // this will decrease the size of the vector to 5 and it will cut off everything after 5.\n",
    "v[0] = 9.99 // to change the value at index 0 to 9.99\n",
    "v.at() // to access information at this point. \n",
    "std::vector<double> v2(v) // to create a copy of the vector. "
   ]
  },
  {
   "cell_type": "markdown",
   "id": "c8e241c9-c760-433e-9fbf-2a552663bc65",
   "metadata": {},
   "source": [
    "## Transferable "
   ]
  },
  {
   "cell_type": "code",
   "execution_count": 12,
   "id": "7bf3370b-8c20-43b9-97a8-97f8e8663381",
   "metadata": {},
   "outputs": [],
   "source": [
    "#include <string>\n",
    "std::vector<std::string> v{\"si\",\"s2\",\"s3\",\"s4\"};"
   ]
  },
  {
   "cell_type": "code",
   "execution_count": 13,
   "id": "b4a5690b-5f52-4e30-b6fd-edb40ee5e75e",
   "metadata": {},
   "outputs": [
    {
     "data": {
      "text/plain": [
       "{ \"si\", \"s2\", \"s3\", \"s4\" }"
      ]
     },
     "execution_count": 13,
     "metadata": {},
     "output_type": "execute_result"
    }
   ],
   "source": [
    "v"
   ]
  },
  {
   "cell_type": "code",
   "execution_count": 16,
   "id": "cd5eb3d5-6c36-4070-a70d-b3da22c19bfa",
   "metadata": {},
   "outputs": [],
   "source": [
    "auto it = v.begin();"
   ]
  },
  {
   "cell_type": "code",
   "execution_count": 17,
   "id": "a6630ee2-f4eb-4d5b-9988-de5d1c6f347a",
   "metadata": {},
   "outputs": [
    {
     "data": {
      "text/plain": [
       "\"si\""
      ]
     },
     "execution_count": 17,
     "metadata": {},
     "output_type": "execute_result"
    }
   ],
   "source": [
    "*it"
   ]
  },
  {
   "cell_type": "code",
   "execution_count": 18,
   "id": "1885bcea-cba4-493a-8be8-ac431e893202",
   "metadata": {},
   "outputs": [],
   "source": [
    "it++;"
   ]
  },
  {
   "cell_type": "code",
   "execution_count": 19,
   "id": "4a055bee-269e-40d1-bfdd-6eda6a2e7233",
   "metadata": {},
   "outputs": [
    {
     "data": {
      "text/plain": [
       "\"s2\""
      ]
     },
     "execution_count": 19,
     "metadata": {},
     "output_type": "execute_result"
    }
   ],
   "source": [
    "*it"
   ]
  },
  {
   "cell_type": "code",
   "execution_count": 20,
   "id": "ccb24271-b83c-41b5-8b3b-18be504da081",
   "metadata": {},
   "outputs": [
    {
     "data": {
      "text/plain": [
       "@0x55bfda15e930"
      ]
     },
     "execution_count": 20,
     "metadata": {},
     "output_type": "execute_result"
    }
   ],
   "source": [
    "// to insert. we can't give it a position, we have to give it an iterator.\n",
    "v.insert(it, \"s1.5\") // this will insert before the iterator. iterator maybe invalid. if we have to reallocate memory it won't be good. "
   ]
  },
  {
   "cell_type": "code",
   "execution_count": 21,
   "id": "1258b35f-7a6b-4786-8e4c-90fdd5456dde",
   "metadata": {},
   "outputs": [
    {
     "data": {
      "text/plain": [
       "{ \"si\", \"s1.5\", \"s2\", \"s3\", \"s4\" }"
      ]
     },
     "execution_count": 21,
     "metadata": {},
     "output_type": "execute_result"
    }
   ],
   "source": [
    "v"
   ]
  },
  {
   "cell_type": "code",
   "execution_count": 24,
   "id": "4a3f8433-ade8-44f2-b655-bb52d1f1b3ee",
   "metadata": {},
   "outputs": [],
   "source": [
    "it = v.begin();\n",
    "it++;\n",
    "it++;"
   ]
  },
  {
   "cell_type": "code",
   "execution_count": 25,
   "id": "f13ae58a-ec58-42f3-bb31-7d5b8986d464",
   "metadata": {},
   "outputs": [],
   "source": [
    "v.erase(it); // to erase the element before."
   ]
  },
  {
   "cell_type": "code",
   "execution_count": 26,
   "id": "531dc460-98de-4d87-b2cf-4d3915e2880f",
   "metadata": {},
   "outputs": [
    {
     "data": {
      "text/plain": [
       "{ \"si\", \"s1.5\", \"s3\", \"s4\" }"
      ]
     },
     "execution_count": 26,
     "metadata": {},
     "output_type": "execute_result"
    }
   ],
   "source": [
    "v"
   ]
  },
  {
   "cell_type": "code",
   "execution_count": 27,
   "id": "12efdb25-98c6-4c0a-a566-2844ec275909",
   "metadata": {},
   "outputs": [
    {
     "data": {
      "text/plain": [
       "\"s4\""
      ]
     },
     "execution_count": 27,
     "metadata": {},
     "output_type": "execute_result"
    }
   ],
   "source": [
    "// to start at the last value we use reverse iterator\n",
    "auto rit = v.rbegin();\n",
    "*rit"
   ]
  },
  {
   "cell_type": "code",
   "execution_count": 28,
   "id": "d5663c1b-6d43-4214-a32c-6323a05f83b1",
   "metadata": {},
   "outputs": [
    {
     "data": {
      "text/plain": [
       "\"s3\""
      ]
     },
     "execution_count": 28,
     "metadata": {},
     "output_type": "execute_result"
    }
   ],
   "source": [
    "rit++;\n",
    "*rit"
   ]
  },
  {
   "cell_type": "markdown",
   "id": "1470699d-bb25-4ee9-a5bd-64c2772c8d5d",
   "metadata": {},
   "source": [
    "now we can go over the vector in a reverse order. "
   ]
  },
  {
   "cell_type": "code",
   "execution_count": null,
   "id": "374c16aa-f372-415d-8d9a-54cc1a3efcda",
   "metadata": {},
   "outputs": [],
   "source": []
  }
 ],
 "metadata": {
  "kernelspec": {
   "display_name": "C++14",
   "language": "C++14",
   "name": "xcpp14"
  },
  "language_info": {
   "codemirror_mode": "text/x-c++src",
   "file_extension": ".cpp",
   "mimetype": "text/x-c++src",
   "name": "c++",
   "version": "14"
  }
 },
 "nbformat": 4,
 "nbformat_minor": 5
}
