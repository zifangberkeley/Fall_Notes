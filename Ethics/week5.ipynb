{
 "cells": [
  {
   "cell_type": "markdown",
   "metadata": {},
   "source": [
    "# The Zen of Python\n",
    "name spaces are important.\n",
    "Namespace: A namespace is a mapping from names to objects. There is no relation between names in difference name spaces\n",
    "two different modules may both define a function maximize without confucsion - users of the modules must prefix it with the module name.\n",
    "scope: A scope is a textual region of a python program where a namespace is directly accessible. \"Directly accessible\" here means that an unqualified reference to a name attempts to find the name in the namespace.\n",
    "\n",
    "In python: names refer to objects.\n",
    "you can create names through\n",
    "- variable assignment\n",
    "- importing module\n",
    "- class and function definitions\n",
    "These operations make an object available in a namespace. \n",
    "Namesapce = space that holds names (kind of).\n",
    "\n",
    "users of the modules must prefix it with the module name.\n",
    "    - demonstration of built in max function and Numpy max function.\n"
   ]
  },
  {
   "cell_type": "code",
   "execution_count": 1,
   "metadata": {},
   "outputs": [],
   "source": [
    "a = [10,3782,465,53,90,3]"
   ]
  },
  {
   "cell_type": "code",
   "execution_count": 2,
   "metadata": {},
   "outputs": [
    {
     "data": {
      "text/plain": [
       "3782"
      ]
     },
     "execution_count": 2,
     "metadata": {},
     "output_type": "execute_result"
    }
   ],
   "source": [
    "max(a)"
   ]
  },
  {
   "cell_type": "code",
   "execution_count": 3,
   "metadata": {},
   "outputs": [
    {
     "data": {
      "text/plain": [
       "3782"
      ]
     },
     "execution_count": 3,
     "metadata": {},
     "output_type": "execute_result"
    }
   ],
   "source": [
    "import numpy as np\n",
    "np.max(a)"
   ]
  },
  {
   "cell_type": "markdown",
   "metadata": {},
   "source": [
    "The functions right now are in different namespaces. np.max is different from max()\n",
    "Consider from numpy import max. what would happen?\n",
    "which library is it importing from. probably numpy version becacuse it replace the built in version like replacing a variable. \n",
    "\n",
    "There are three main type of namespaces:\n",
    "Built-in: Functions and objects which are accessible in a python program or interpreter by default.\n",
    "Global: Functions, objects and variables defined in a module or program outside of an object or function.\n",
    "Local: Functions, objects, and variables that are defined within a function or class. Only accessible inside of the object they are defined in. \n",
    "\n",
    "Bult in namespace:\n",
    "- functions and objects which are accessible in a python program or interpreter by default. you do not have to import or define anything to use these.\n",
    "some built-ins: max, print, round, open.\n",
    "you can access these through help(__builtins__)\n",
    "\n",
    "Global Namespace\n",
    "- global()\n",
    "this that are defined in the python interpreter.\n",
    "- Local()\n",
    "    things that are defined inside class or functions. we can have a variable with the same name inside a function and another that exists outside but have different values because of the name_sapces. \n",
    "\n",
    "Local -> Enconlsiing -> global -> built-in."
   ]
  },
  {
   "cell_type": "markdown",
   "metadata": {},
   "source": [
    "# Python introspection\n",
    "inspect moduule: get information about live objects such as modules, classes, methods, functions, tracebacks. frame objectsm and code objects. \n",
    "- we can use it for:\n",
    "    - type checking\n",
    "    - getting source code\n",
    "    - inspecting live classes and functions\n",
    "    - examining the stack\n",
    "\n",
    "## Type Checking\n",
    "-   isbuiltin: \n",
    "-   ismethod:\n",
    "-   isfunction:\n",
    "-   ismodule:\n",
    "\n",
    "## inspect.getmembers\n",
    "- return all the members of an object in a list of (name,value) pairs sorted by name.\n",
    "if the optional predicate argument, which will be called with the value object of each member is supplied, the only members for which the predicated returns a true value are included.\n",
    "Theres a lot in a class. we can bundle it up with typechecking.\n",
    "\n",
    "inspect.getmembers(hydrogen_atom, inspect.ismethod) it will return the cases that returns true. \n",
    "\n",
    "## inspect.getsource\n",
    "return the text of the source code for an object. The argu may be a module, class, method, function, traceback, frame or code object. Doesn't really work with python built ins. "
   ]
  },
  {
   "cell_type": "markdown",
   "metadata": {},
   "source": [
    "# Bash scripting\n",
    "we just need need to add a shebang at the top and run it.\n",
    "#!/bin/bash\n",
    "two different ways to run it: bash script.sh\n",
    "or run it with ./script.sh\n",
    "we can make it executable by giving us permission, chmod 750 script. \n",
    "\n",
    "Variables in Bash are denoted by a dollar sign, good practice to use curly braces. assignment does not need the dollar sign. do not use spaces around equal sign.\n",
    "\n",
    "Special Variables,\n",
    "$? return code of the last command\n",
    "$@ all command line arguments\n",
    "$0 Command being run\n",
    "$1 First,\n",
    "$# Number of arguments passed in \n",
    "$$ Process ID of the current process\n",
    "\n",
    "you can type it in the command line with $1 to pass into arguments. \n",
    "\n",
    "conditional starts with if and uses square brackets\n",
    "this is followed by then and terminated by fi.\n",
    "[[$a == \"helo]] is for comparison\n",
    "[[-e$a]] a file/directory represented by $a exists\n",
    "[[-f$a]] $a is a regular file. \n",
    "\n",
    "For loops:\n",
    "for Var in [expression]\n",
    "do \n",
    "    [commands]\n",
    "done\n",
    "\n",
    "We can loop over all the arguments in a file with $@\n",
    "common idioms\n",
    "- looping over numbers : for numbers in {1:10}\n",
    "    - this will loop over the numbers 1-10.\n",
    "to loop over every line of a file.\n",
    "we pass in the file name as an argument \n",
    "File = $1\n",
    "cat ${File} | while read LINE\n",
    "do\n",
    "    echo ${LINE}\n",
    "done\n",
    "\n",
    "when to use sccripts: ssh resync,wget, etc\n",
    "- python is easier for subprocess.\n",
    "dealing with files and file manipulation\n",
    "anything with a lot of argument handing goes to bash. anything computational should be in python."
   ]
  }
 ],
 "metadata": {
  "kernelspec": {
   "display_name": "msse-python",
   "language": "python",
   "name": "python3"
  },
  "language_info": {
   "codemirror_mode": {
    "name": "ipython",
    "version": 3
   },
   "file_extension": ".py",
   "mimetype": "text/x-python",
   "name": "python",
   "nbconvert_exporter": "python",
   "pygments_lexer": "ipython3",
   "version": "3.11.9"
  }
 },
 "nbformat": 4,
 "nbformat_minor": 2
}
