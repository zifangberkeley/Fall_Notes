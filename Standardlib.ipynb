{
 "cells": [
  {
   "cell_type": "markdown",
   "id": "50d0b5e1-346a-4d81-97aa-134222cef274",
   "metadata": {},
   "source": [
    "What is a vector?\n",
    "it's a dynamic memory block that is contiguous\n",
    "has a capacity and a size\n",
    "size: number of current elements stored\n",
    "capacity: how much it can hold without reallocation (>=size)\n",
    "\n",
    " if we push back element to a max capacity vector, the capacity will be pushed back by 1 larger than the size.\n",
    "it can be helpful to set the capacity in the beginning but not necaaary."
   ]
  },
  {
   "cell_type": "code",
   "execution_count": 1,
   "id": "dd336fb9-d09b-471b-8a74-74067625acf1",
   "metadata": {},
   "outputs": [],
   "source": [
    "#include <vector>"
   ]
  },
  {
   "cell_type": "code",
   "execution_count": 2,
   "id": "08897fa5-0d9e-4fe5-b7c2-056a48baba9f",
   "metadata": {},
   "outputs": [],
   "source": [
    "std::vector<double> v{1.1,2.2,3.3,4.4,5.5};"
   ]
  },
  {
   "cell_type": "code",
   "execution_count": 3,
   "id": "8bce47d4-be29-4954-81c7-57fd10c22b4d",
   "metadata": {},
   "outputs": [
    {
     "data": {
      "text/plain": [
       "{ 1.1000000, 2.2000000, 3.3000000, 4.4000000, 5.5000000 }"
      ]
     },
     "execution_count": 3,
     "metadata": {},
     "output_type": "execute_result"
    }
   ],
   "source": [
    "v"
   ]
  },
  {
   "cell_type": "code",
   "execution_count": 4,
   "id": "5a120070-3d2f-425a-900a-17ebf02b2a8f",
   "metadata": {},
   "outputs": [],
   "source": [
    "v.push_back(6.6);"
   ]
  },
  {
   "cell_type": "code",
   "execution_count": 5,
   "id": "938ca3fe-22e8-4a22-8b8c-397df3f6eb05",
   "metadata": {},
   "outputs": [
    {
     "data": {
      "text/plain": [
       "{ 1.1000000, 2.2000000, 3.3000000, 4.4000000, 5.5000000, 6.6000000 }"
      ]
     },
     "execution_count": 5,
     "metadata": {},
     "output_type": "execute_result"
    }
   ],
   "source": [
    "v"
   ]
  },
  {
   "cell_type": "code",
   "execution_count": 6,
   "id": "ca9d4b55-ee81-4bee-b0c7-ba750c0aa5a8",
   "metadata": {},
   "outputs": [
    {
     "data": {
      "text/plain": [
       "6"
      ]
     },
     "execution_count": 6,
     "metadata": {},
     "output_type": "execute_result"
    }
   ],
   "source": [
    "v.size()"
   ]
  },
  {
   "cell_type": "code",
   "execution_count": 7,
   "id": "039c2e9a-6171-42c2-a650-3f88f3ce71fb",
   "metadata": {},
   "outputs": [
    {
     "data": {
      "text/plain": [
       "10"
      ]
     },
     "execution_count": 7,
     "metadata": {},
     "output_type": "execute_result"
    }
   ],
   "source": [
    "v.capacity() // the compiler decided to include 4 more slots for us."
   ]
  },
  {
   "cell_type": "code",
   "execution_count": 8,
   "id": "7b2ee423-998c-4842-8dc7-43c50e307998",
   "metadata": {},
   "outputs": [],
   "source": [
    "v.pop_back()"
   ]
  },
  {
   "cell_type": "code",
   "execution_count": 9,
   "id": "5160312d-f867-4b95-90aa-b07c6fb594f1",
   "metadata": {},
   "outputs": [
    {
     "data": {
      "text/plain": [
       "5"
      ]
     },
     "execution_count": 9,
     "metadata": {},
     "output_type": "execute_result"
    }
   ],
   "source": [
    "v.size()"
   ]
  },
  {
   "cell_type": "code",
   "execution_count": 10,
   "id": "5073af46-e284-4578-a8ec-488e82c39837",
   "metadata": {},
   "outputs": [],
   "source": [
    "v.reserve(100); // to reserve the capacity."
   ]
  },
  {
   "cell_type": "code",
   "execution_count": 11,
   "id": "a8c1f571-6058-455d-83c4-ff07415ece17",
   "metadata": {},
   "outputs": [
    {
     "name": "stderr",
     "output_type": "stream",
     "text": [
      "\u001b[1minput_line_24:3:12: \u001b[0m\u001b[0;1;31merror: \u001b[0m\u001b[1mexpected ';' after expression\u001b[0m\n",
      "v.resize(5) // this will decrease the size of the vector to 5 and it will cut off everything after 5.\n",
      "\u001b[0;1;32m           ^\n",
      "\u001b[0m\u001b[0;32m           ;\n",
      "\u001b[0m\u001b[1minput_line_24:4:12: \u001b[0m\u001b[0;1;31merror: \u001b[0m\u001b[1mexpected ';' after expression\u001b[0m\n",
      "v[0] = 9.99 // to change the value at index 0 to 9.99\n",
      "\u001b[0;1;32m           ^\n",
      "\u001b[0m\u001b[0;32m           ;\n",
      "\u001b[0m\u001b[1minput_line_24:5:3: \u001b[0m\u001b[0;1;31merror: \u001b[0m\u001b[1mno matching member function for call to 'at'\u001b[0m\n",
      "v.at() // to access information at this point. \n",
      "\u001b[0;1;32m~~^~\n",
      "\u001b[0m\u001b[1m/home/zifang/miniconda3/envs/msse-cling/bin/../lib/gcc/../../x86_64-conda-linux-gnu/include/c++/10.4.0/bits/stl_vector.h:1092:7: \u001b[0m\u001b[0;1;30mnote: \u001b[0mcandidate function not viable: requires single argument '__n', but no arguments were provided\u001b[0m\n",
      "      at(size_type __n)\n",
      "\u001b[0;1;32m      ^\n",
      "\u001b[0m\u001b[1m/home/zifang/miniconda3/envs/msse-cling/bin/../lib/gcc/../../x86_64-conda-linux-gnu/include/c++/10.4.0/bits/stl_vector.h:1110:7: \u001b[0m\u001b[0;1;30mnote: \u001b[0mcandidate function not viable: requires single argument '__n', but no arguments were provided\u001b[0m\n",
      "      at(size_type __n) const\n",
      "\u001b[0;1;32m      ^\n",
      "\u001b[0m"
     ]
    },
    {
     "ename": "Interpreter Error",
     "evalue": "",
     "output_type": "error",
     "traceback": [
      "Interpreter Error: "
     ]
    }
   ],
   "source": [
    "v.resize(15,3.4); //we will size of the vector to 15 and fill in the rest with 3.14.\n",
    "v.resize(5) // this will decrease the size of the vector to 5 and it will cut off everything after 5.\n",
    "v[0] = 9.99 // to change the value at index 0 to 9.99\n",
    "v.at() // to access information at this point. \n",
    "std::vector<double> v2(v) // to create a copy of the vector. "
   ]
  },
  {
   "cell_type": "markdown",
   "id": "c8e241c9-c760-433e-9fbf-2a552663bc65",
   "metadata": {},
   "source": [
    "## Transferable "
   ]
  },
  {
   "cell_type": "code",
   "execution_count": 12,
   "id": "7bf3370b-8c20-43b9-97a8-97f8e8663381",
   "metadata": {},
   "outputs": [],
   "source": [
    "#include <string>\n",
    "std::vector<std::string> v{\"si\",\"s2\",\"s3\",\"s4\"};"
   ]
  },
  {
   "cell_type": "code",
   "execution_count": 13,
   "id": "b4a5690b-5f52-4e30-b6fd-edb40ee5e75e",
   "metadata": {},
   "outputs": [
    {
     "data": {
      "text/plain": [
       "{ \"si\", \"s2\", \"s3\", \"s4\" }"
      ]
     },
     "execution_count": 13,
     "metadata": {},
     "output_type": "execute_result"
    }
   ],
   "source": [
    "v"
   ]
  },
  {
   "cell_type": "code",
   "execution_count": 16,
   "id": "cd5eb3d5-6c36-4070-a70d-b3da22c19bfa",
   "metadata": {},
   "outputs": [],
   "source": [
    "auto it = v.begin();"
   ]
  },
  {
   "cell_type": "code",
   "execution_count": 17,
   "id": "a6630ee2-f4eb-4d5b-9988-de5d1c6f347a",
   "metadata": {},
   "outputs": [
    {
     "data": {
      "text/plain": [
       "\"si\""
      ]
     },
     "execution_count": 17,
     "metadata": {},
     "output_type": "execute_result"
    }
   ],
   "source": [
    "*it"
   ]
  },
  {
   "cell_type": "code",
   "execution_count": 18,
   "id": "1885bcea-cba4-493a-8be8-ac431e893202",
   "metadata": {},
   "outputs": [],
   "source": [
    "it++;"
   ]
  },
  {
   "cell_type": "code",
   "execution_count": 19,
   "id": "4a055bee-269e-40d1-bfdd-6eda6a2e7233",
   "metadata": {},
   "outputs": [
    {
     "data": {
      "text/plain": [
       "\"s2\""
      ]
     },
     "execution_count": 19,
     "metadata": {},
     "output_type": "execute_result"
    }
   ],
   "source": [
    "*it"
   ]
  },
  {
   "cell_type": "code",
   "execution_count": 20,
   "id": "ccb24271-b83c-41b5-8b3b-18be504da081",
   "metadata": {},
   "outputs": [
    {
     "data": {
      "text/plain": [
       "@0x55bfda15e930"
      ]
     },
     "execution_count": 20,
     "metadata": {},
     "output_type": "execute_result"
    }
   ],
   "source": [
    "// to insert. we can't give it a position, we have to give it an iterator.\n",
    "v.insert(it, \"s1.5\") // this will insert before the iterator. iterator maybe invalid. if we have to reallocate memory it won't be good. "
   ]
  },
  {
   "cell_type": "code",
   "execution_count": 21,
   "id": "1258b35f-7a6b-4786-8e4c-90fdd5456dde",
   "metadata": {},
   "outputs": [
    {
     "data": {
      "text/plain": [
       "{ \"si\", \"s1.5\", \"s2\", \"s3\", \"s4\" }"
      ]
     },
     "execution_count": 21,
     "metadata": {},
     "output_type": "execute_result"
    }
   ],
   "source": [
    "v"
   ]
  },
  {
   "cell_type": "code",
   "execution_count": 24,
   "id": "4a3f8433-ade8-44f2-b655-bb52d1f1b3ee",
   "metadata": {},
   "outputs": [],
   "source": [
    "it = v.begin();\n",
    "it++;\n",
    "it++;"
   ]
  },
  {
   "cell_type": "code",
   "execution_count": 25,
   "id": "f13ae58a-ec58-42f3-bb31-7d5b8986d464",
   "metadata": {},
   "outputs": [],
   "source": [
    "v.erase(it); // to erase the element before."
   ]
  },
  {
   "cell_type": "code",
   "execution_count": 26,
   "id": "531dc460-98de-4d87-b2cf-4d3915e2880f",
   "metadata": {},
   "outputs": [
    {
     "data": {
      "text/plain": [
       "{ \"si\", \"s1.5\", \"s3\", \"s4\" }"
      ]
     },
     "execution_count": 26,
     "metadata": {},
     "output_type": "execute_result"
    }
   ],
   "source": [
    "v"
   ]
  },
  {
   "cell_type": "code",
   "execution_count": 27,
   "id": "12efdb25-98c6-4c0a-a566-2844ec275909",
   "metadata": {},
   "outputs": [
    {
     "data": {
      "text/plain": [
       "\"s4\""
      ]
     },
     "execution_count": 27,
     "metadata": {},
     "output_type": "execute_result"
    }
   ],
   "source": [
    "// to start at the last value we use reverse iterator\n",
    "auto rit = v.rbegin();\n",
    "*rit"
   ]
  },
  {
   "cell_type": "code",
   "execution_count": 28,
   "id": "d5663c1b-6d43-4214-a32c-6323a05f83b1",
   "metadata": {},
   "outputs": [
    {
     "data": {
      "text/plain": [
       "\"s3\""
      ]
     },
     "execution_count": 28,
     "metadata": {},
     "output_type": "execute_result"
    }
   ],
   "source": [
    "rit++;\n",
    "*rit"
   ]
  },
  {
   "cell_type": "markdown",
   "id": "1470699d-bb25-4ee9-a5bd-64c2772c8d5d",
   "metadata": {},
   "source": [
    "now we can go over the vector in a reverse order. "
   ]
  },
  {
   "cell_type": "markdown",
   "id": "972a0b7e-dc3e-4489-a728-976cd926e84c",
   "metadata": {},
   "source": [
    "Array is fixed sized. good for fixed size objects."
   ]
  },
  {
   "cell_type": "code",
   "execution_count": 29,
   "id": "d5687482-a079-466f-aa10-65cd250631a5",
   "metadata": {},
   "outputs": [],
   "source": [
    "#include <array>"
   ]
  },
  {
   "cell_type": "code",
   "execution_count": 30,
   "id": "886e1af2-56c6-404b-9c28-c8e2a4f5cb18",
   "metadata": {},
   "outputs": [
    {
     "data": {
      "text/plain": [
       "1.2300000"
      ]
     },
     "execution_count": 30,
     "metadata": {},
     "output_type": "execute_result"
    }
   ],
   "source": [
    "std::array<double,3> a;\n",
    "a[0] = 1.23;\n",
    "a[0]"
   ]
  },
  {
   "cell_type": "code",
   "execution_count": 31,
   "id": "ca69bfb2-e072-467e-af07-4d70b599c504",
   "metadata": {},
   "outputs": [
    {
     "data": {
      "text/plain": [
       "1.2300000"
      ]
     },
     "execution_count": 31,
     "metadata": {},
     "output_type": "execute_result"
    }
   ],
   "source": [
    "a.at(0)   "
   ]
  },
  {
   "cell_type": "markdown",
   "id": "7a2c93ec-c136-4542-b21c-c1587afe5dd4",
   "metadata": {},
   "source": [
    "Standard list vs standard vectors.\n",
    "list in C++ is actually a linked list. each element is linked to the next or even linked to the before.\n",
    "fast insertion and deletion in the middle\n",
    "no eneed to reallocate and copy\n",
    "\n",
    "disadvantages are memory usage, must store pointers and there's no random access as the list start at the beginning of the vector."
   ]
  },
  {
   "cell_type": "code",
   "execution_count": 32,
   "id": "013b6626-f0d0-470e-8d0f-85b0581ee05c",
   "metadata": {},
   "outputs": [],
   "source": [
    "#include <list>\n",
    "std::list<int> l;\n",
    "l.push_back(9);\n",
    "l.push_front(3);"
   ]
  },
  {
   "cell_type": "code",
   "execution_count": 33,
   "id": "64478907-de6c-4231-97b1-56d0381ac273",
   "metadata": {},
   "outputs": [
    {
     "data": {
      "text/plain": [
       "{ 3, 9 }"
      ]
     },
     "execution_count": 33,
     "metadata": {},
     "output_type": "execute_result"
    }
   ],
   "source": [
    "l"
   ]
  },
  {
   "cell_type": "code",
   "execution_count": 34,
   "id": "48d737ec-c004-474e-b47b-ce561ed70b59",
   "metadata": {},
   "outputs": [
    {
     "data": {
      "text/plain": [
       "3"
      ]
     },
     "execution_count": 34,
     "metadata": {},
     "output_type": "execute_result"
    }
   ],
   "source": [
    "auto it = l.begin();\n",
    "*it"
   ]
  },
  {
   "cell_type": "code",
   "execution_count": 35,
   "id": "4a2b6c44-15fb-49b4-8538-83efbd62a831",
   "metadata": {},
   "outputs": [],
   "source": [
    "it++;"
   ]
  },
  {
   "cell_type": "code",
   "execution_count": 36,
   "id": "a05ad014-c48a-4dc6-b71b-8d5e0ecb373f",
   "metadata": {},
   "outputs": [],
   "source": [
    "l.insert(it,7);"
   ]
  },
  {
   "cell_type": "code",
   "execution_count": 37,
   "id": "046049d6-2567-4c57-b5d2-e7d4a7947242",
   "metadata": {},
   "outputs": [
    {
     "data": {
      "text/plain": [
       "{ 3, 7, 9 }"
      ]
     },
     "execution_count": 37,
     "metadata": {},
     "output_type": "execute_result"
    }
   ],
   "source": [
    "l"
   ]
  },
  {
   "cell_type": "code",
   "execution_count": 38,
   "id": "59fc5567-e7a5-474b-b1e9-771106aa74b9",
   "metadata": {},
   "outputs": [],
   "source": [
    "it = l.begin();\n",
    "it++;it++;"
   ]
  },
  {
   "cell_type": "code",
   "execution_count": 39,
   "id": "434338eb-50ac-4dcf-b79c-5931cbd7e424",
   "metadata": {},
   "outputs": [
    {
     "data": {
      "text/plain": [
       "9"
      ]
     },
     "execution_count": 39,
     "metadata": {},
     "output_type": "execute_result"
    }
   ],
   "source": [
    "*it"
   ]
  },
  {
   "cell_type": "code",
   "execution_count": 40,
   "id": "89e124cb-617b-4d7e-b83c-4536dba2d1b6",
   "metadata": {},
   "outputs": [],
   "source": [
    "l.erase(it);"
   ]
  },
  {
   "cell_type": "code",
   "execution_count": 41,
   "id": "042c03c2-88a2-4f57-80af-5612f99db102",
   "metadata": {},
   "outputs": [
    {
     "data": {
      "text/plain": [
       "{ 3, 7 }"
      ]
     },
     "execution_count": 41,
     "metadata": {},
     "output_type": "execute_result"
    }
   ],
   "source": [
    "l"
   ]
  },
  {
   "cell_type": "code",
   "execution_count": 42,
   "id": "921ad515-e744-4cdc-968c-4650062ecd65",
   "metadata": {},
   "outputs": [],
   "source": [
    "l.clear()"
   ]
  },
  {
   "cell_type": "code",
   "execution_count": 44,
   "id": "9576ce4e-95b9-42d6-8959-2c697e35cd2c",
   "metadata": {},
   "outputs": [],
   "source": [
    "l.push_back(2);\n",
    "l.push_back(19);\n",
    "l.push_back(28);"
   ]
  },
  {
   "cell_type": "code",
   "execution_count": 45,
   "id": "fc5367c3-acbc-4c21-9922-d807ee83fe24",
   "metadata": {},
   "outputs": [],
   "source": [
    "// range based forloop\n",
    "\n",
    "for(auto & it :l)\n",
    "    it +=1;\n"
   ]
  },
  {
   "cell_type": "code",
   "execution_count": 46,
   "id": "90075da9-1fa0-4c19-91a8-48057bceb1f2",
   "metadata": {},
   "outputs": [
    {
     "data": {
      "text/plain": [
       "{ 3, 20, 29 }"
      ]
     },
     "execution_count": 46,
     "metadata": {},
     "output_type": "execute_result"
    }
   ],
   "source": [
    "l"
   ]
  },
  {
   "cell_type": "markdown",
   "id": "e629716d-2026-4ac9-bd75-f1ed115d40c6",
   "metadata": {},
   "source": [
    "## STL:pair"
   ]
  },
  {
   "cell_type": "code",
   "execution_count": 47,
   "id": "42d2e10a-a7be-465d-89cc-d04ce836790c",
   "metadata": {},
   "outputs": [],
   "source": [
    "#include <utility>\n",
    "std::pair<std::string,int> p(\"Hi\", 1)\n"
   ]
  },
  {
   "cell_type": "code",
   "execution_count": 48,
   "id": "0e5538a0-3786-42cf-8448-089744b22c65",
   "metadata": {},
   "outputs": [
    {
     "data": {
      "text/plain": [
       "\"Hi\""
      ]
     },
     "execution_count": 48,
     "metadata": {},
     "output_type": "execute_result"
    }
   ],
   "source": [
    "p.first // not functions but attributes"
   ]
  },
  {
   "cell_type": "code",
   "execution_count": 49,
   "id": "81f2e4ee-28a1-4d3f-a9ce-efd5b2ed0b91",
   "metadata": {},
   "outputs": [
    {
     "data": {
      "text/plain": [
       "1"
      ]
     },
     "execution_count": 49,
     "metadata": {},
     "output_type": "execute_result"
    }
   ],
   "source": [
    "p.second"
   ]
  },
  {
   "cell_type": "code",
   "execution_count": 50,
   "id": "cc614e6c-d074-4bc5-92a1-5ca0443901ab",
   "metadata": {},
   "outputs": [
    {
     "data": {
      "text/plain": [
       "\"li\""
      ]
     },
     "execution_count": 50,
     "metadata": {},
     "output_type": "execute_result"
    }
   ],
   "source": [
    "p.first = \"li\";\n",
    "p.second = 3;\n",
    "p.first"
   ]
  },
  {
   "cell_type": "code",
   "execution_count": 51,
   "id": "72bd85fc-deea-4a49-a046-51191e34ec96",
   "metadata": {},
   "outputs": [
    {
     "data": {
      "text/plain": [
       "3"
      ]
     },
     "execution_count": 51,
     "metadata": {},
     "output_type": "execute_result"
    }
   ],
   "source": [
    "p.second"
   ]
  },
  {
   "cell_type": "markdown",
   "id": "e705279a-4487-47fb-866c-6d23e75905b1",
   "metadata": {},
   "source": [
    "## Map"
   ]
  },
  {
   "cell_type": "markdown",
   "id": "323809d0-4d10-4759-bfcc-10cb78508f2e",
   "metadata": {},
   "source": [
    "equivalent to python dict.\n",
    "    they are basically assocaited arrays\n",
    "    map in c++ takes two template arguments. type for the key and type for the map. keytype must have a comparison operator."
   ]
  },
  {
   "cell_type": "code",
   "execution_count": 52,
   "id": "3f09c79e-2192-4f71-80b3-6e27ba6427f0",
   "metadata": {},
   "outputs": [],
   "source": [
    "#include <map>\n",
    "#include <string>\n",
    "std::map<int, std::string> m;"
   ]
  },
  {
   "cell_type": "code",
   "execution_count": 54,
   "id": "ede2b014-0525-4f2b-927d-ea72de2668a5",
   "metadata": {},
   "outputs": [],
   "source": [
    "m[23] = \"A\";"
   ]
  },
  {
   "cell_type": "code",
   "execution_count": 55,
   "id": "3eb6304f-3eab-4444-bd4c-bd925b34607e",
   "metadata": {},
   "outputs": [
    {
     "data": {
      "text/plain": [
       "{ 23 => \"A\" }"
      ]
     },
     "execution_count": 55,
     "metadata": {},
     "output_type": "execute_result"
    }
   ],
   "source": [
    "m"
   ]
  },
  {
   "cell_type": "code",
   "execution_count": 56,
   "id": "60263218-c086-4126-9db0-0e1c17341e98",
   "metadata": {},
   "outputs": [
    {
     "data": {
      "text/plain": [
       "\"A\""
      ]
     },
     "execution_count": 56,
     "metadata": {},
     "output_type": "execute_result"
    }
   ],
   "source": [
    "m[23]"
   ]
  },
  {
   "cell_type": "code",
   "execution_count": 57,
   "id": "d1b27c1d-0255-48a2-836a-7503e3cb5eff",
   "metadata": {},
   "outputs": [
    {
     "data": {
      "text/plain": [
       "\"A\""
      ]
     },
     "execution_count": 57,
     "metadata": {},
     "output_type": "execute_result"
    }
   ],
   "source": [
    "// a map also has the at function\n",
    "m.at(23)"
   ]
  },
  {
   "cell_type": "code",
   "execution_count": 58,
   "id": "01ff03a4-05e2-4d44-a80e-ab3f67553953",
   "metadata": {},
   "outputs": [],
   "source": [
    "m[24] = \"B\";"
   ]
  },
  {
   "cell_type": "code",
   "execution_count": 60,
   "id": "b22db6b0-cb32-4370-bba5-e1dfe60773c7",
   "metadata": {},
   "outputs": [],
   "source": [
    "auto it = m.begin();"
   ]
  },
  {
   "cell_type": "code",
   "execution_count": 61,
   "id": "35005bb2-666e-4c43-8bf3-220a7da8d241",
   "metadata": {},
   "outputs": [
    {
     "data": {
      "text/plain": [
       "23"
      ]
     },
     "execution_count": 61,
     "metadata": {},
     "output_type": "execute_result"
    }
   ],
   "source": [
    "it -> first"
   ]
  },
  {
   "cell_type": "code",
   "execution_count": 62,
   "id": "c0fdc683-13f6-4251-9bca-20024545bb9e",
   "metadata": {},
   "outputs": [
    {
     "data": {
      "text/plain": [
       "\"A\""
      ]
     },
     "execution_count": 62,
     "metadata": {},
     "output_type": "execute_result"
    }
   ],
   "source": [
    "it -> second"
   ]
  },
  {
   "cell_type": "code",
   "execution_count": 63,
   "id": "487c9fc2-a1aa-4cf2-92dd-24c05deadd83",
   "metadata": {},
   "outputs": [],
   "source": [
    "// if we want to insert a value into our map. two ways.\n",
    "// long way\n",
    "m.insert(std::pair<int, std::string>(19,\"H\"));"
   ]
  },
  {
   "cell_type": "code",
   "execution_count": 64,
   "id": "e93ae892-79b5-4fa3-9428-36ec197aaf6e",
   "metadata": {},
   "outputs": [
    {
     "data": {
      "text/plain": [
       "{ 19 => \"H\", 23 => \"A\", 24 => \"B\" }"
      ]
     },
     "execution_count": 64,
     "metadata": {},
     "output_type": "execute_result"
    }
   ],
   "source": [
    "m"
   ]
  },
  {
   "cell_type": "code",
   "execution_count": 65,
   "id": "2f021842-82bf-4588-9c43-f2cbad979a25",
   "metadata": {},
   "outputs": [],
   "source": [
    "// we don't need to give it an iterator. to insert becausee it's ordered anyway\n",
    "for(auto & it :m)\n",
    "    it.second += \"append\""
   ]
  },
  {
   "cell_type": "code",
   "execution_count": 66,
   "id": "c75b6500-d9bc-429c-9ba6-9543f741e940",
   "metadata": {},
   "outputs": [
    {
     "data": {
      "text/plain": [
       "{ 19 => \"Happend\", 23 => \"Aappend\", 24 => \"Bappend\" }"
      ]
     },
     "execution_count": 66,
     "metadata": {},
     "output_type": "execute_result"
    }
   ],
   "source": [
    "m"
   ]
  },
  {
   "cell_type": "markdown",
   "id": "6b859f7c-1850-4728-8496-30457f8e2aeb",
   "metadata": {},
   "source": [
    "## Set"
   ]
  },
  {
   "cell_type": "markdown",
   "id": "07fcaf6c-0268-4e8a-99f8-8ed678d0f223",
   "metadata": {},
   "source": [
    "only contains unique items and it's already ordered"
   ]
  },
  {
   "cell_type": "code",
   "execution_count": 67,
   "id": "78f81fdf-a230-49d2-9766-83a6bce12778",
   "metadata": {},
   "outputs": [],
   "source": [
    "#include <set>\n",
    "std::set<int> s;\n",
    "s.insert(1);\n",
    "s.insert(2);"
   ]
  },
  {
   "cell_type": "code",
   "execution_count": 68,
   "id": "e5a96240-ef5f-4cff-97fb-125f4781a3cc",
   "metadata": {},
   "outputs": [
    {
     "data": {
      "text/plain": [
       "{ 1, 2 }"
      ]
     },
     "execution_count": 68,
     "metadata": {},
     "output_type": "execute_result"
    }
   ],
   "source": [
    "s"
   ]
  },
  {
   "cell_type": "code",
   "execution_count": 69,
   "id": "b851f301-ba78-45e5-8471-55dc45bbe6a0",
   "metadata": {},
   "outputs": [
    {
     "data": {
      "text/plain": [
       "@0x55bfdfad3490"
      ]
     },
     "execution_count": 69,
     "metadata": {},
     "output_type": "execute_result"
    }
   ],
   "source": [
    "s.insert(2)"
   ]
  },
  {
   "cell_type": "code",
   "execution_count": 70,
   "id": "0f457e54-98aa-4519-b7d6-96dbecc011d7",
   "metadata": {},
   "outputs": [
    {
     "data": {
      "text/plain": [
       "{ 1, 2 }"
      ]
     },
     "execution_count": 70,
     "metadata": {},
     "output_type": "execute_result"
    }
   ],
   "source": [
    "s"
   ]
  },
  {
   "cell_type": "markdown",
   "id": "eaa35da0-5594-4353-a9dc-4be7bd197b87",
   "metadata": {},
   "source": [
    "## String"
   ]
  },
  {
   "cell_type": "code",
   "execution_count": 76,
   "id": "0cedd599-0bfd-489a-bdc5-93e33e5ec765",
   "metadata": {},
   "outputs": [],
   "source": [
    "#include <string>\n",
    "#include <iostream>\n",
    "std::string s(\"Hello, world\");"
   ]
  },
  {
   "cell_type": "code",
   "execution_count": 77,
   "id": "1c3d8823-90aa-4b41-8b02-1d99ed54f9a1",
   "metadata": {},
   "outputs": [
    {
     "name": "stderr",
     "output_type": "stream",
     "text": [
      "\u001b[1minput_line_132:3:13: \u001b[0m\u001b[0;1;31merror: \u001b[0m\u001b[1mcannot increment value of type '__gnu_cxx::__normal_iterator<char *, std::__cxx11::basic_string<char> >'\u001b[0m\n",
      "for(auto it : s)\n",
      "\u001b[0;1;32m            ^\n",
      "\u001b[0m\u001b[1minput_line_132:3:15: \u001b[0m\u001b[0;1;30mnote: \u001b[0min implicit call to 'operator++' for iterator of type 'std::__cxx11::basic_string<char>'\u001b[0m\n",
      "for(auto it : s)\n",
      "\u001b[0;1;32m              ^\n",
      "\u001b[0m\u001b[1m/home/zifang/miniconda3/envs/msse-cling/bin/../lib/gcc/../../x86_64-conda-linux-gnu/include/c++/10.4.0/bits/basic_string.h:810:7: \u001b[0m\u001b[0;1;30mnote: \u001b[0mselected 'begin' function with iterator type 'std::__cxx11::basic_string<char, std::char_traits<char>, std::allocator<char> >::iterator' (aka '__normal_iterator<char *, std::__cxx11::basic_string<char> >')\u001b[0m\n",
      "      begin() _GLIBCXX_NOEXCEPT\n",
      "\u001b[0;1;32m      ^\n",
      "\u001b[0m"
     ]
    },
    {
     "ename": "Interpreter Error",
     "evalue": "",
     "output_type": "error",
     "traceback": [
      "Interpreter Error: "
     ]
    }
   ],
   "source": [
    "//string can also be iterated\n",
    "for(auto it : s)\n",
    "    std::cout << it << std::endl;"
   ]
  },
  {
   "cell_type": "code",
   "execution_count": 79,
   "id": "e8f2f488-b5a5-4a72-ba30-9774780e3ea6",
   "metadata": {},
   "outputs": [],
   "source": [
    "auto it = s.begin();"
   ]
  },
  {
   "cell_type": "code",
   "execution_count": 80,
   "id": "d84441f3-c3ad-455f-b0ae-34bf659ee1d5",
   "metadata": {},
   "outputs": [
    {
     "name": "stderr",
     "output_type": "stream",
     "text": [
      "\u001b[1minput_line_135:2:2: \u001b[0m\u001b[0;1;31merror: \u001b[0m\u001b[1mindirection requires pointer operand ('__gnu_cxx::__normal_iterator<char *, std::__cxx11::basic_string<char> >' invalid)\u001b[0m\n",
      " *it\n",
      "\u001b[0;1;32m ^~~\n",
      "\u001b[0m"
     ]
    },
    {
     "ename": "Interpreter Error",
     "evalue": "",
     "output_type": "error",
     "traceback": [
      "Interpreter Error: "
     ]
    }
   ],
   "source": [
    "*it"
   ]
  },
  {
   "cell_type": "code",
   "execution_count": null,
   "id": "688e0a3f-7e3d-46c0-b7fe-1d9d1dcedf42",
   "metadata": {},
   "outputs": [],
   "source": []
  }
 ],
 "metadata": {
  "kernelspec": {
   "display_name": "C++14",
   "language": "C++14",
   "name": "xcpp14"
  },
  "language_info": {
   "codemirror_mode": "text/x-c++src",
   "file_extension": ".cpp",
   "mimetype": "text/x-c++src",
   "name": "c++",
   "version": "14"
  }
 },
 "nbformat": 4,
 "nbformat_minor": 5
}
