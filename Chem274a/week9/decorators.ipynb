{
 "cells": [
  {
   "cell_type": "markdown",
   "metadata": {},
   "source": [
    "There are three levels of understandings:\n",
    "    level 1: using decorators  \n",
    "    level 2: understanding what a decorator is\n",
    "    level 3: writing your own decorator\n",
    "    level 4: writing your own decorator which takes arguments\n",
    "\n",
    "Decorators look something like this\n",
    "@status \n",
    "def x_squared(x) \n",
    "\n",
    "This x_squared function is now a decorated function. The decorator can modify things around the function but it does not modify the function itself.\n",
    "It will give new behaviours to the underlying functions."
   ]
  },
  {
   "cell_type": "code",
   "execution_count": null,
   "metadata": {},
   "outputs": [],
   "source": [
    "def x_squared(x):\n",
    "    return x ** 2 \n",
    "def x_cubed(x):\n",
    "    return x**3\n",
    "\n",
    "if __name__ == \"__main__\":\n",
    "    x_squared(2)\n",
    "    x_cubed(2)\n",
    "\n",
    "# in this output the output is not captured nor printed out. To decorate the functions\n",
    "from example import status\n",
    "\n",
    "@status\n",
    "def x_squared(x):\n",
    "    return x ** 2\n",
    "\n",
    "def x_cubed(x):\n",
    "    return x**3\n",
    "\n",
    "if __name__ == \"__main__\":\n",
    "    x_squared(2)\n",
    "    x_cubed(2)"
   ]
  }
 ],
 "metadata": {
  "kernelspec": {
   "display_name": "msse-python",
   "language": "python",
   "name": "python3"
  },
  "language_info": {
   "name": "python",
   "version": "3.11.9"
  }
 },
 "nbformat": 4,
 "nbformat_minor": 2
}
