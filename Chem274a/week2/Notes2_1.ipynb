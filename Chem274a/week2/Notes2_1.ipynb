{
 "cells": [
  {
   "cell_type": "markdown",
   "metadata": {},
   "source": [
    "# Programming Paradigms\n",
    "    basically styles of programming.\n",
    "Can be divided into two areas\n",
    "1. Imperative Programming\n",
    "    - focus on how to execute and define control flow as statements that change a program state\n",
    "        1. Prodedural Programming\n",
    "        2. Object Oriented Programming\n",
    "2. Declarative Programming\n",
    "    - focus on what to execute, but not the detail control flow\n",
    "        1. Function Programming\n",
    "## Definitions\n",
    "Control Flow: order which commands are executed. For, if, else, while are control statements\n",
    "State: Data stored in memory during program execution.\n",
    "\n",
    "### Imperative & Procedural Programming\n",
    "- give computer a list of statements to execute (monte carlo sim is an example of this)\n",
    "    - Prodecural : codes separated into small sections \n",
    "    - Object Oriented: data and methods are grouped together in an object or encapsulated\n",
    "- Objects can interact with one another and can contain other objects. \n",
    "### Declarative: Function Programming\n",
    "- Use mathematical idea of a function\n",
    "- one input produces 1 output and data is usually immutable.\n",
    "    \n",
    "C++ and Python are both multi-paradigm\n",
    "-   lambda functions for functional programming. haven't learned tools yet.\n",
    "\n",
    "## Atom Class Overview. \n",
    "How to code atoms in python class. Things to consider: must be created with attributes with number of protons, neutrons and electrons. Has charge attribute and will have an ionized method which calculates the atomic mass number based on the number of protons and neutrons."
   ]
  },
  {
   "cell_type": "markdown",
   "metadata": {},
   "source": [
    "# Object Oriented Programming\n",
    "objects are simplier in python and we will move up in difficulty into C++\n",
    "- data associated with an object is an attribute or propety of the object\n",
    "- code associated with an object is an method.\n",
    "\n",
    "We have been working with objects already"
   ]
  },
  {
   "cell_type": "code",
   "execution_count": 1,
   "metadata": {},
   "outputs": [
    {
     "data": {
      "text/plain": [
       "0.6485840476038404"
      ]
     },
     "execution_count": 1,
     "metadata": {},
     "output_type": "execute_result"
    }
   ],
   "source": [
    "import numpy as np\n",
    "# create a numpy array object\n",
    "arr = np.random.rand(3,5)\n",
    "# access the shape attribute\n",
    "arr.shape\n",
    "# call the mean method\n",
    "arr.mean()"
   ]
  },
  {
   "cell_type": "markdown",
   "metadata": {},
   "source": [
    "to access attribute, we have obj.attribute_name. returns data associated with the object.\n",
    "to acccess method, we have obj.method(). performs functions on the object. \n",
    "\n",
    "## Class\n",
    "we use class by creating instances of the object, where instances are copies which each and have their own associated data.\n",
    "- class is a blueprint. classes can inherit other classes or inbedding in another class."
   ]
  },
  {
   "cell_type": "code",
   "execution_count": null,
   "metadata": {},
   "outputs": [],
   "source": [
    "\"\"\" An Atom Class\"\"\"\n",
    "# define the class\n",
    "class Atom:\n",
    "    pass\n",
    "\n",
    "if __name__ == \"__main__\":\n",
    "    # we can create attributes for these but at this point, they are just memory locations.\n",
    "    atom_1 = Atom()\n",
    "    atom_2 = Atom()"
   ]
  },
  {
   "cell_type": "code",
   "execution_count": 3,
   "metadata": {},
   "outputs": [
    {
     "name": "stdout",
     "output_type": "stream",
     "text": [
      "I am an atom initialized with 1 protons!\n",
      "I am an atom initialized with 2 protons!\n",
      "0\n"
     ]
    }
   ],
   "source": [
    "\"\"\"An Atom Class\"\"\"\n",
    "# we have to define a constructor, create a function and set data to the instances. A constructor function has to be initiate using the __init__ function\n",
    "# first argument is representing the instance it's building. we can call it self.\n",
    "class Atom:\n",
    "    def __init__(self, num_protons, num_neutrons, num_electrons):\n",
    "        # what is self?\n",
    "        # self is the instance that it created. you can bind data to an instance by setting the attribute on self.\n",
    "        self.num_protons = num_protons\n",
    "        self.num_neutrons = num_neutrons\n",
    "        self.num_electrons = num_electrons\n",
    "        self.charge = self.num_protons-self.num_electrons\n",
    "        # print(f\"I am an atom initialized with {num_protons} protons!\")\n",
    "        pass\n",
    "\n",
    "if __name__ == \"__main__\":\n",
    "    atom_1 = Atom(1,0,1) #self doesn't need to be passed it. python will pass it in.\n",
    "    atom_2 = Atom(num_protons=2,num_neutrons=2,num_electrons=2)\n",
    "    print(atom_1.num_neutrons)"
   ]
  },
  {
   "cell_type": "code",
   "execution_count": 5,
   "metadata": {},
   "outputs": [
    {
     "name": "stdout",
     "output_type": "stream",
     "text": [
      "0\n",
      "0\n"
     ]
    }
   ],
   "source": [
    "\"\"\"An Atom Class\"\"\"\n",
    "# defining a method for the atom class. which can add or remove electrons from an atom instance.\n",
    "class Atom:\n",
    "    def __init__(self, num_protons, num_neutrons, num_electrons):\n",
    "        self.num_protons = num_protons\n",
    "        self.num_neutrons = num_neutrons\n",
    "        self.num_electrons = num_electrons\n",
    "        self.charge = self.num_protons-self.num_electrons\n",
    "    def ionize(self, ionizing_electrons):\n",
    "        self.num_electrons += ionizing_electrons\n",
    "        self.charge = self.num_protons - self.num_electrons\n",
    "\n",
    "if __name__ == \"__main__\":\n",
    "    atom_1 = Atom(1,0,1) \n",
    "    atom_2 = Atom(num_protons=2,num_neutrons=2,num_electrons=1)\n",
    "    print(atom_1.num_neutrons)\n",
    "    atom_2.ionize(1)\n",
    "    print(atom_2.charge)"
   ]
  },
  {
   "cell_type": "markdown",
   "metadata": {},
   "source": [
    "# CLass vs Instance Attributes\n",
    "difference between them is that class attribute belongs to that class. and it's shared between the instances of the class.\n",
    "instances are present on the instances we created of a class. Lets add some class attributes."
   ]
  },
  {
   "cell_type": "code",
   "execution_count": null,
   "metadata": {},
   "outputs": [],
   "source": [
    "# defining a method for the atom class. which can add or remove electrons from an atom instance.\n",
    "class Atom:\n",
    "    #class attribute, like some common value. This will be constant. \n",
    "    about_me = \"I am an atom\"\n",
    "\n",
    "    def __init__(self, num_protons, num_neutrons, num_electrons):\n",
    "        self.num_protons = num_protons\n",
    "        self.num_neutrons = num_neutrons\n",
    "        self.num_electrons = num_electrons\n",
    "        self.charge = self.num_protons-self.num_electrons\n",
    "    def ionize(self, ionizing_electrons):\n",
    "        self.num_electrons += ionizing_electrons\n",
    "        self.charge = self.num_protons - self.num_electrons\n",
    "\n",
    "if __name__ == \"__main__\":\n",
    "    atom_1 = Atom(1,0,1) \n",
    "    atom_2 = Atom(num_protons=2,num_neutrons=2,num_electrons=1)\n",
    "    print(atom_1.num_neutrons)\n",
    "    atom_2.ionize(1)\n",
    "    print(atom_2.charge)"
   ]
  },
  {
   "cell_type": "markdown",
   "metadata": {},
   "source": [
    "# Class Customization - Duner or Magic Methods\n",
    "`Duner` = double under for double underscore\n",
    "they have special names to customize object behavior such as __init__\n"
   ]
  },
  {
   "cell_type": "code",
   "execution_count": null,
   "metadata": {},
   "outputs": [],
   "source": [
    "# adding more dunder methods. Using __str__ to be allow the print to be nicer. \n",
    "class Atom:\n",
    "    # have a doc string with a one line description for our class. We are going to use sphix notations.\n",
    "    about_me = \"I am an atom\"\n",
    "    def __init__(self, num_protons, num_neutrons, num_electrons):\n",
    "        # document like how you document a method. \n",
    "        self.num_protons = num_protons\n",
    "        self.num_neutrons = num_neutrons\n",
    "        self.num_electrons = num_electrons\n",
    "        self.charge = self.num_protons-self.num_electrons\n",
    "    def ionize(self, ionizing_electrons):\n",
    "        # always have a doc string for our methods\n",
    "        self.num_electrons += ionizing_electrons\n",
    "        self.charge = self.num_protons - self.num_electrons\n",
    "    \n",
    "    # defining a string representation for the class\n",
    "    def __str__(self):\n",
    "        #it has to return a string\n",
    "        return f\"{Atom.about_me} with {self.num_protons}\"\n",
    "\n",
    "if __name__ == \"__main__\":\n",
    "    atom_1 = Atom(1,0,1) \n",
    "    atom_2 = Atom(num_protons=2,num_neutrons=2,num_electrons=1)\n",
    "    print(atom_1.num_neutrons)\n",
    "    atom_2.ionize(1)\n",
    "    print(atom_2.charge)"
   ]
  },
  {
   "cell_type": "markdown",
   "metadata": {},
   "source": [
    "# Concepts of Object Oriented Programming in Software Engineering\n",
    "`Four Pillars`\n",
    "- `Encapsulation`: Grouping data and methods \n",
    "- `Abstraction`: Hiding implementation details\n",
    "- `Polymorphism`: Different object types with same interface\n",
    "- `Inheritance`: extending an object to create a new variation of the object\n",
    "\n",
    "In our atom class we `encapsulated` the data and methods together. We kept the details of how the atom is `ionized` hidden from the user. \n",
    "\n",
    "Polymorphism lets python use objects with the same behavior and methods in place of one another\n",
    "Inheritance allow us to extend and customize existing objects. "
   ]
  },
  {
   "cell_type": "code",
   "execution_count": null,
   "metadata": {},
   "outputs": [],
   "source": [
    "#polymorphism\n",
    "len([1,3,4])\n",
    "len(\"hello\")\n",
    "# even though strings and lists are different, we can use it on these two types.\n",
    "# inheritance is used a lot."
   ]
  },
  {
   "cell_type": "markdown",
   "metadata": {},
   "source": [
    "## Inheritance and polymorphism\n",
    "In inheritance, objects can be derived from other objects (parents) and inherit the behavior of the parents.\n",
    "lets suppose we are writing some codes to write for robots. one makes pizza and the other makes chemicals\n",
    "\n",
    "since both of these things are robots, they will probably share common attributes and behaviors, we can extend one behavior to another. We can make a standard robot and have the two specialized robot inherit the properties of the standard.\n",
    "\n",
    "we can make them polymorphic by calling each special behavior the same thing. "
   ]
  },
  {
   "cell_type": "code",
   "execution_count": 7,
   "metadata": {},
   "outputs": [],
   "source": [
    "\"\"\" Robot Classes\"\"\"\n",
    "\n",
    "class StandardRobot:\n",
    "    Manufacture = \"MSSE\" \n",
    "    def __init__(self, weight: float, color: str): #type containing, tells the type of the variable.\n",
    "        self.weight = weight\n",
    "        self.color = color\n",
    "        self.position: list[float] = [0.0,0.0] #position\n",
    "        self.holding: list[object] = [] # list of objects\n",
    "\n",
    "    def walk(self, displacement: list[float]):\n",
    "        for i in range(2):\n",
    "            self.position[i] += displacement[i]\n",
    "    def pick_up(self, item: object):\n",
    "        if len(self.holding) < 2:\n",
    "            self.holding.append(item)\n",
    "        else:\n",
    "            raise ValueError(\"Robot can't hold anything else\")\n",
    "    def put_down(self) -> object:\n",
    "        return self.holding.pop() # when the robot put something down, we get the item back."
   ]
  },
  {
   "cell_type": "code",
   "execution_count": 8,
   "metadata": {},
   "outputs": [],
   "source": [
    "robo = StandardRobot(90.0, \"green\")"
   ]
  },
  {
   "cell_type": "code",
   "execution_count": 9,
   "metadata": {},
   "outputs": [
    {
     "data": {
      "text/plain": [
       "[-1.0, 3.0]"
      ]
     },
     "execution_count": 9,
     "metadata": {},
     "output_type": "execute_result"
    }
   ],
   "source": [
    "robo.walk([-1,3])\n",
    "robo.position"
   ]
  },
  {
   "cell_type": "code",
   "execution_count": 10,
   "metadata": {},
   "outputs": [],
   "source": [
    "robo.pick_up(\"broom\")\n",
    "robo.pick_up(\"mop\")"
   ]
  },
  {
   "cell_type": "code",
   "execution_count": 11,
   "metadata": {},
   "outputs": [
    {
     "ename": "ValueError",
     "evalue": "Robot can't hold anything else",
     "output_type": "error",
     "traceback": [
      "\u001b[0;31m---------------------------------------------------------------------------\u001b[0m",
      "\u001b[0;31mValueError\u001b[0m                                Traceback (most recent call last)",
      "Cell \u001b[0;32mIn[11], line 1\u001b[0m\n\u001b[0;32m----> 1\u001b[0m \u001b[43mrobo\u001b[49m\u001b[38;5;241;43m.\u001b[39;49m\u001b[43mpick_up\u001b[49m\u001b[43m(\u001b[49m\u001b[38;5;124;43m\"\u001b[39;49m\u001b[38;5;124;43mCat\u001b[39;49m\u001b[38;5;124;43m\"\u001b[39;49m\u001b[43m)\u001b[49m\n",
      "Cell \u001b[0;32mIn[7], line 18\u001b[0m, in \u001b[0;36mStandardRobot.pick_up\u001b[0;34m(self, item)\u001b[0m\n\u001b[1;32m     16\u001b[0m     \u001b[38;5;28mself\u001b[39m\u001b[38;5;241m.\u001b[39mholding\u001b[38;5;241m.\u001b[39mappend(item)\n\u001b[1;32m     17\u001b[0m \u001b[38;5;28;01melse\u001b[39;00m:\n\u001b[0;32m---> 18\u001b[0m     \u001b[38;5;28;01mraise\u001b[39;00m \u001b[38;5;167;01mValueError\u001b[39;00m(\u001b[38;5;124m\"\u001b[39m\u001b[38;5;124mRobot can\u001b[39m\u001b[38;5;124m'\u001b[39m\u001b[38;5;124mt hold anything else\u001b[39m\u001b[38;5;124m\"\u001b[39m)\n",
      "\u001b[0;31mValueError\u001b[0m: Robot can't hold anything else"
     ]
    }
   ],
   "source": [
    "robo.pick_up(\"Cat\")"
   ]
  },
  {
   "cell_type": "code",
   "execution_count": 12,
   "metadata": {},
   "outputs": [
    {
     "name": "stdout",
     "output_type": "stream",
     "text": [
      "mop\n"
     ]
    }
   ],
   "source": [
    "item = robo.put_down()\n",
    "print(item)"
   ]
  },
  {
   "cell_type": "code",
   "execution_count": 13,
   "metadata": {},
   "outputs": [
    {
     "data": {
      "text/plain": [
       "['broom']"
      ]
     },
     "execution_count": 13,
     "metadata": {},
     "output_type": "execute_result"
    }
   ],
   "source": [
    "robo.holding"
   ]
  },
  {
   "cell_type": "markdown",
   "metadata": {},
   "source": [
    "We will use inheritance to make a robot that can make a pizza or mix chemicals. Without inheritance we will have to rewrite all these codes. We can just extend the behavior of our robot"
   ]
  },
  {
   "cell_type": "code",
   "execution_count": 14,
   "metadata": {},
   "outputs": [],
   "source": [
    "class PizzaRobot(StandardRobot): # to inherit it, we just put it inside the quotations\n",
    "    \n",
    "    def make(self): # in this make function, robot use method of the parent to make the pizza\n",
    "        self.pick_up(\"sauce\")\n",
    "        self.pick_up(\"dough\")\n",
    "\n",
    "        self.put_down()\n",
    "        self.put_down()\n",
    "        print(\"Pizza is done!\")\n",
    "\n",
    "        return \"pizza\""
   ]
  },
  {
   "cell_type": "code",
   "execution_count": 15,
   "metadata": {},
   "outputs": [
    {
     "name": "stdout",
     "output_type": "stream",
     "text": [
      "Pizza is done!\n"
     ]
    }
   ],
   "source": [
    "robopizza = PizzaRobot(85.0,\"organe\")\n",
    "pizza = robopizza.make()"
   ]
  },
  {
   "cell_type": "code",
   "execution_count": 16,
   "metadata": {},
   "outputs": [
    {
     "data": {
      "text/plain": [
       "'pizza'"
      ]
     },
     "execution_count": 16,
     "metadata": {},
     "output_type": "execute_result"
    }
   ],
   "source": [
    "pizza"
   ]
  },
  {
   "cell_type": "markdown",
   "metadata": {},
   "source": [
    "## Inheritance Hierarchies\n",
    "When looking for an attribute or method, python will start at the bottom of the hierachy tree and go up until the attribute or method is found. Instance --> make --> standard robot.\n",
    "\n",
    "## Inheritance super()\n",
    "It's a python specific function that extend behavior of the parent class in the child class.\n",
    "we use super() to extend the constructor. Say we want the constructor of our pizza robot to be different than our standard robot."
   ]
  },
  {
   "cell_type": "code",
   "execution_count": 25,
   "metadata": {},
   "outputs": [],
   "source": [
    "class PizzaRobot(StandardRobot): # to inherit it, we just put it inside the quotations\n",
    "    def __init__(self, weight, color, topping = \"pepperoni\"):\n",
    "        super().__init__(weight, color)\n",
    "        print(f\"A robot at {self.position} has neem created.\")\n",
    "        self.topping = topping\n",
    "    def make(self): # in this make function, robot use method of the parent to make the pizza\n",
    "        self.pick_up(\"sauce\")\n",
    "        self.pick_up(\"dough\")\n",
    "\n",
    "        self.put_down()\n",
    "        self.put_down()\n",
    "        print(f\"A {self.topping} pizza is done!\")\n",
    "\n",
    "        return \"pizza\""
   ]
  },
  {
   "cell_type": "code",
   "execution_count": 26,
   "metadata": {},
   "outputs": [
    {
     "name": "stdout",
     "output_type": "stream",
     "text": [
      "A robot at [0.0, 0.0] has neem created.\n"
     ]
    }
   ],
   "source": [
    "robopizza = PizzaRobot(85,\"orange\")"
   ]
  },
  {
   "cell_type": "code",
   "execution_count": 27,
   "metadata": {},
   "outputs": [
    {
     "name": "stdout",
     "output_type": "stream",
     "text": [
      "A pepperoni pizza is done!\n"
     ]
    }
   ],
   "source": [
    "pizza = robopizza.make()"
   ]
  },
  {
   "cell_type": "code",
   "execution_count": 20,
   "metadata": {},
   "outputs": [
    {
     "data": {
      "text/plain": [
       "'pizza'"
      ]
     },
     "execution_count": 20,
     "metadata": {},
     "output_type": "execute_result"
    }
   ],
   "source": []
  },
  {
   "cell_type": "code",
   "execution_count": null,
   "metadata": {},
   "outputs": [],
   "source": []
  }
 ],
 "metadata": {
  "kernelspec": {
   "display_name": "Python 3",
   "language": "python",
   "name": "python3"
  },
  "language_info": {
   "codemirror_mode": {
    "name": "ipython",
    "version": 3
   },
   "file_extension": ".py",
   "mimetype": "text/x-python",
   "name": "python",
   "nbconvert_exporter": "python",
   "pygments_lexer": "ipython3",
   "version": "3.11.9"
  }
 },
 "nbformat": 4,
 "nbformat_minor": 2
}
